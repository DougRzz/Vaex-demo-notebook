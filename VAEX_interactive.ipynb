{
 "cells": [
  {
   "cell_type": "markdown",
   "metadata": {},
   "source": [
    "#  Vaex - 2D demo\n",
    "The purpose of this notebook is to demonstrate\n",
    "some of the 2D capabilities of VAEX. Plotting of data is performed with BQPlot\n",
    "Jupyter widgets are enabled so the user can interactively play with the settings"
   ]
  },
  {
   "cell_type": "code",
   "execution_count": 1,
   "metadata": {},
   "outputs": [],
   "source": [
    "import numpy as np\n",
    "import ipywidgets as widgets\n",
    "import bqplot as bq\n",
    "import vaex as vx\n",
    "\n"
   ]
  },
  {
   "cell_type": "markdown",
   "metadata": {},
   "source": [
    "### Create random data to plot"
   ]
  },
  {
   "cell_type": "code",
   "execution_count": 2,
   "metadata": {},
   "outputs": [],
   "source": [
    "\n",
    "size = 10000\n",
    "scale = 1.\n",
    "scaleLocal = 20\n",
    "np.random.seed(0)\n",
    "x_data = np.arange(size)\n",
    "y_data = np.cumsum(np.random.randn(size)  * scale) + np.random.randn(size) * scaleLocal\n",
    "\n",
    "np.random.seed(1)\n",
    "scaleLocal2 = 3\n",
    "y_data2 = np.cumsum(np.random.randn(size)  * scale) + np.random.randn(size) * scaleLocal2\n"
   ]
  },
  {
   "cell_type": "markdown",
   "metadata": {},
   "source": [
    "### Create inital figure and lines"
   ]
  },
  {
   "cell_type": "code",
   "execution_count": 3,
   "metadata": {},
   "outputs": [],
   "source": [
    "x_sc = bq.LinearScale()\n",
    "# x_sc.max = size * 1.3\n",
    "y_sc = bq.LinearScale()\n",
    "y_sc2 = bq.LinearScale()\n",
    "\n",
    "ax_x = bq.Axis(label='X', scale=x_sc, grid_lines='solid')\n",
    "ax_y = bq.Axis(label='Y', scale=y_sc, orientation='vertical', grid_lines='solid')\n",
    "ax_y2 = bq.Axis(label='2nd Y', scale=y_sc2, orientation='vertical', side = 'right', visible = False,grid_lines='none')\n",
    "\n",
    "line1 = bq.Lines(x=x_data, y=y_data, scales={'x': x_sc, 'y': y_sc} , colors=['blue'],display_legend = False, labels=['y1'],stroke_width = 1.0)\n",
    "\n",
    "line2 = bq.Lines(x=x_data, y=y_data2, scales={'x': x_sc, 'y': y_sc} , colors=['darkgreen'],display_legend = False, labels=['y2'],stroke_width = 1.0)\n",
    "\n",
    "margins = dict(top = 50, bottom=40, left=50, right=50)\n",
    "fig = bq.Figure(marks = [line1,line2], axes=[ax_x, ax_y] , fig_margin = margins , animation_duration=1000)\n",
    "fig.layout.width = '98%'\n",
    "fig.layout.height = '400px' \n",
    "fig.title = 'Vaex demo'\n",
    "\n",
    "figBinNum = widgets.IntText(\n",
    "    value=500,\n",
    "    description='Nº of bins',\n",
    "    disabled=False\n",
    ")\n",
    "figBinNum.layout.width = '180px'\n"
   ]
  },
  {
   "cell_type": "markdown",
   "metadata": {},
   "source": [
    "### Create Vaex object"
   ]
  },
  {
   "cell_type": "code",
   "execution_count": 4,
   "metadata": {},
   "outputs": [],
   "source": [
    "dataVX = vx.from_arrays( x=x_data, y1=y_data, y2 = y_data2)"
   ]
  },
  {
   "cell_type": "code",
   "execution_count": 5,
   "metadata": {},
   "outputs": [],
   "source": [
    "binbyChannelx = 'x'\n",
    "binbyChannely = 'y1'"
   ]
  },
  {
   "cell_type": "markdown",
   "metadata": {},
   "source": [
    "### Calculate initial binned line to plot"
   ]
  },
  {
   "cell_type": "code",
   "execution_count": 6,
   "metadata": {},
   "outputs": [],
   "source": [
    "start = 500\n",
    "end = 8000\n",
    "samplePoints = (50,)\n",
    "tExpression = \"abs(\" + str((start + end)/2) + \" - \" + binbyChannelx + \") < \" + str((end-start)/2)\n",
    "tExpressionAnd = \"(\" + binbyChannelx + \" > \" + str(start) + \") & (\" + binbyChannelx + \" < \" + str(end) + \")\"\n",
    "dataVX.select(tExpression, name='xpos')\n",
    "dataVX.select(tExpressionAnd, name='xposAnd')\n",
    "\n",
    "x_Binned = dataVX.mean(binbyChannelx, binby=binbyChannelx, selection = 'xpos', shape=samplePoints, limits=[start,end])\n",
    "y_Binned = dataVX.mean(binbyChannely, binby=binbyChannelx, selection = 'xpos', shape=samplePoints, limits=[start,end])\n",
    "\n",
    "lineBinned = bq.Lines(x=x_Binned, y=y_Binned, scales={'x': x_sc, 'y': y_sc},display_legend = False, labels = ['y1 -- mean'])\n",
    "lineBinned2ndY = bq.Lines(x=x_Binned, y=y_Binned, scales={'x': x_sc, 'y': y_sc2},display_legend = False, labels = ['y1 -- mean'])\n",
    "fig.marks = [line1, line2, lineBinned]\n"
   ]
  },
  {
   "cell_type": "markdown",
   "metadata": {},
   "source": [
    "### Create Jupyter widgets"
   ]
  },
  {
   "cell_type": "code",
   "execution_count": 7,
   "metadata": {},
   "outputs": [],
   "source": [
    "UserEquation = widgets.Text(\n",
    "    value='y1',\n",
    "    placeholder='Type equation: e.g.  fuel * engspd,  or  where((fuel>80)&(engspd>2000) , tempegr_val, 0)',\n",
    "    description='Equation1:',\n",
    "    disabled=False\n",
    ")\n",
    "   \n",
    "valid = widgets.Valid(\n",
    "    value=True,\n",
    "    description='',)\n",
    "valid.layout.width = '20px'\n",
    "equationHbox = widgets.HBox([UserEquation,valid])\n",
    "\n",
    "UserEquation2 = widgets.Text(\n",
    "    value='y2',\n",
    "    placeholder='Type equation: e.g.  fuel * engspd,  or  where((fuel>80)&(engspd>2000) , tempegr_val, 0)',\n",
    "    description='Equation2:',\n",
    "    disabled=False\n",
    ")\n",
    "   \n",
    "valid2 = widgets.Valid(\n",
    "    value=True,\n",
    "    description='',)\n",
    "valid2.layout.width = '20px'\n",
    "\n",
    "equationHbox2 = widgets.HBox([UserEquation2,valid2])\n",
    "\n",
    "              \n",
    "    \n",
    "# -------------------------------\n",
    "# User equation, time series channel\n",
    "\n",
    "\n",
    "Userselect = widgets.Text(\n",
    "    value='',\n",
    "    placeholder='Type selection boolean equation',\n",
    "    description='Selection:',\n",
    "    disabled=False\n",
    ")\n",
    "   \n",
    "validselect = widgets.Valid(\n",
    "    value=True,\n",
    "    description='',)\n",
    "validselect.layout.width = '20px'\n",
    "    \n",
    "selectHbox = widgets.HBox([Userselect,validselect])\n",
    "     \n",
    "figBinNum = widgets.IntText(\n",
    "    value=500,\n",
    "    description='Nº of bins:',\n",
    "    disabled=False\n",
    ")\n",
    "figBinNum.layout.width = '180px'\n",
    "\n",
    "startx = widgets.FloatText(\n",
    "    value=0,\n",
    "    description='Start x:',\n",
    "    disabled=False\n",
    ")\n",
    "startx.layout.width = '180px'\n",
    "\n",
    "endx = widgets.FloatText(\n",
    "    value=8000,\n",
    "    description='End x:',\n",
    "    disabled=False\n",
    ")\n",
    "endx.layout.width = '180px'\n",
    "\n",
    "calcTypeWidget = widgets.SelectMultiple(\n",
    "    options=['Mean', 'Max', 'Min', 'sum', 'Std. dev', '95%ile', 'median', 'variance', 'correlation' , 'covariance cov[x,y]'],\n",
    "    value=['Mean'],\n",
    "    #rows=10,\n",
    "    description='Calc type:',\n",
    "    disabled=False\n",
    ")\n",
    "\n",
    "buttonPlot = widgets.Button(description='Plot',\n",
    "           layout=widgets.Layout(width='180px', height='25px'))\n",
    "\n",
    "updatePlots_progressBar = widgets.IntProgress(\n",
    "    value=0,\n",
    "    min=0,\n",
    "    max=10,\n",
    "    step=1,\n",
    "    description='',\n",
    "    bar_style='', # 'success', 'info', 'warning', 'danger' or ''\n",
    "    orientation='horizontal'\n",
    ")\n",
    "updatePlots_progressBar.layout.width = buttonPlot.layout.width\n",
    "updatePlots_progressBar.layout.height = '15px'\n",
    "\n",
    "\n",
    "helpLabelWidget1 = widgets.HTML(value=\"<b>The lines y1 and y2 are fixed.</b>\")\n",
    "helpLabelWidget = widgets.HTML(value=\"<b>Edit the settings and hit plot....</b>\")\n",
    "\n",
    "\n",
    "def on_buttonPlot_clicked(buttonPlot):       \n",
    "    # clear_output() # clear old plots (and widgets which are reinserted in line below)\n",
    "    updatePlot()\n",
    "\n",
    "buttonPlot.on_click(on_buttonPlot_clicked)\n",
    "\n",
    "buttonPlotBox = widgets.VBox([buttonPlot, updatePlots_progressBar])  \n",
    "    \n",
    "    \n",
    "    "
   ]
  },
  {
   "cell_type": "markdown",
   "metadata": {},
   "source": [
    "### Update plot function"
   ]
  },
  {
   "cell_type": "code",
   "execution_count": 8,
   "metadata": {},
   "outputs": [],
   "source": [
    "class legendWidget(object):\n",
    "    \"\"\"A legend Widget using a horizontal bar chart\n",
    "    \n",
    "    marks: line marks from a bqplot figure.  \n",
    "    \n",
    "    These line marks must have legend labels \n",
    "    (in line mark, remove other legend by using this: display_legend = False)\n",
    "    e.g. >>> legend = legendWidget(fig.marks) \n",
    "    \n",
    "    BQplot module imported as bq (import bqplot as bq)\n",
    "\n",
    "    \"\"\"\n",
    "    def __init__(self, marks):\n",
    "        \"\"\"Return a new Legend object.\"\"\"\n",
    "        y_ord = bq.OrdinalScale()\n",
    "        x_sc = bq.LinearScale()\n",
    "        \n",
    "        legendLabels = []\n",
    "        colours = []\n",
    "        markLineNums = [] # record number of lines per mark\n",
    "        for mark in marks:            \n",
    "            legendLabels += mark.labels\n",
    "            colours += mark.colors[:len(mark.labels)]\n",
    "            markLineNums.append(len(mark.labels))  \n",
    "\n",
    "        bar = bq.Bars(\n",
    "            y=[1]*len(legendLabels) , # all bars have a amplitude of 1\n",
    "            x=legendLabels, \n",
    "            scales={'y': x_sc, 'x': y_ord},\n",
    "            colors=colours ,\n",
    "            padding = 0.6,\n",
    "            orientation='horizontal',\n",
    "            stroke = 'white'  #remove the black border around the bar\n",
    "            )\n",
    "        \n",
    "        ax_y = bq.Axis(scale=y_ord, orientation=\"vertical\")\n",
    "        ax_x = bq.Axis(scale=x_sc)\n",
    "        ax_x.visible = False\n",
    "        margin = dict(top=40, bottom=0, left=110, right=5)\n",
    "        barFig = bq.Figure(marks=[bar], axes=[ax_y, ax_x], fig_margin=margin)\n",
    "        \n",
    "        # Variable height depending on number of bars in legend\n",
    "        barFig.layout.height = str(45 + 20 * len(legendLabels)) + 'px'\n",
    "        barFig.layout.width = '170px'\n",
    "\n",
    "        barFig.min_aspect_ratio = 0.000000000001 # effectively remove aspect ratio constraint\n",
    "        barFig.max_aspect_ratio = 999999999999999 # effectively remove aspect ratio constraint\n",
    "        barFig.background_style = {'fill': 'White'}   \n",
    "                    \n",
    "        self.fig = barFig\n",
    "        self.bar = bar\n",
    "        self.colours = colours\n",
    "        self.markLineNums = markLineNums\n",
    "        \n",
    "\n",
    " \n",
    "    \n",
    "        "
   ]
  },
  {
   "cell_type": "code",
   "execution_count": 9,
   "metadata": {},
   "outputs": [],
   "source": [
    "legend = legendWidget(fig.marks)        \n",
    "\n",
    "def changeOpacity(self, target):\n",
    "    \"\"\"Enable legend interactivity. \n",
    "    Use in conjunction with class legendWidget(object) \n",
    "    Click on legend bar to toggle opacity of all other lines\n",
    "    \n",
    "    \"\"\"\n",
    "    \n",
    "    # I'm not sure how to pass in the line chart and legend widgets from on_element_click(). \n",
    "    # Need to explicity define them below.\n",
    "    lineFig = fig  # set lineFig to name of line chart figure\n",
    "    legendFig = legend  # set legendFig to name of new legend widget\n",
    "    \n",
    "    opacity = 0.1   # set opacity of non selected lines here\n",
    "    sigNum = target['data']['index']\n",
    "    bar = self\n",
    "    if bar.opacities == [] or bar.opacities[sigNum] == opacity:\n",
    "        bar.opacities=[opacity]*sigNum + [1] + [opacity]*(len(bar.x) - sigNum - 1)        \n",
    "        \n",
    "        # Some marks in line plot have more than 1 line.  \n",
    "        currentLineNum=0\n",
    "        for markNum,markLineNum in enumerate(legendFig.markLineNums):\n",
    "            lineFig.marks[markNum].opacities = bar.opacities[currentLineNum:currentLineNum + markLineNum ]\n",
    "            currentLineNum+=markLineNum\n",
    "    else:\n",
    "        bar.opacities = []\n",
    "        for mark in lineFig.marks:\n",
    "#         for mark in self:\n",
    "            mark.opacities = []\n",
    "   \n",
    "legend.fig.marks[0].on_element_click(changeOpacity)\n",
    "legend.fig"
   ]
  },
  {
   "cell_type": "code",
   "execution_count": 10,
   "metadata": {},
   "outputs": [],
   "source": [
    "binbyChannelx = 'x'\n",
    "\n",
    "def updatePlot():\n",
    "    binbyChannelys =  []\n",
    "    if UserEquation.value !='':\n",
    "        binbyChannelys.append(UserEquation.value)\n",
    "    if UserEquation2.value !='':\n",
    "        binbyChannelys.append(UserEquation2.value)\n",
    "        \n",
    "    updatePlots_progressBar.max = len(calcTypeWidget.value) * len(binbyChannelys)\n",
    "    \n",
    "    start = startx.value\n",
    "    end = endx.value\n",
    "    samplePoints = figBinNum.value\n",
    "    tExpressionAnd = \"(\" + binbyChannelx + \" > \" + str(start) + \") & (\" + binbyChannelx + \" < \" + str(end) + \")\"\n",
    "    dataVX.select(tExpressionAnd)\n",
    "\n",
    "    x_Binned = dataVX.mean(binbyChannelx, binby=binbyChannelx, selection = True, shape=(samplePoints,), limits=[start,end])\n",
    "    print('x_Binned = dataVX.mean(' + binbyChannelx + ' , binby=' + binbyChannelx + ', selection = True, shape = (' + str(samplePoints) + ',) , limits=[' + str(start) +', ' + str(end) + '])')\n",
    "\n",
    "    print('dataVX.select(' + tExpressionAnd + ')')\n",
    "\n",
    "    if Userselect.value!= '':\n",
    "        print('dataVX.select(' + Userselect.value + ', mode = \\'and\\')')\n",
    "        dataVX.select(Userselect.value, mode = 'and')    \n",
    "#         selectionLabel = 'Selection: ' + Userselect.value\n",
    "    \n",
    "    y_Binned=[]\n",
    "    y_Binned2=[]\n",
    "    labels = []\n",
    "    labels2 = []\n",
    "#     print('y_Binned=[]')\n",
    "    for calcType in calcTypeWidget.value:\n",
    "        for binbyChannely in binbyChannelys:\n",
    "            updatePlots_progressBar.value +=1                \n",
    "            if calcType == 'Mean':\n",
    "                y_Binned.append(dataVX.mean(binbyChannely, binby=binbyChannelx, selection = True, shape=(samplePoints,), limits=[start,end]) )\n",
    "                vaexCommand = 'mean'\n",
    "                labels.append(binbyChannely + '--' + calcType )\n",
    "                print('dataVX.' + vaexCommand + '(\"' + binbyChannely + '\", binby=\"' + binbyChannelx + '\", selection = True, shape = (' + str(samplePoints) + ',) , limits=[' + str(start) +', ' + str(end) + '])')\n",
    "            elif calcType == 'Max':\n",
    "                y_Binned.append(dataVX.max(binbyChannely, binby=binbyChannelx, selection = True, shape=(samplePoints,), limits=[start,end]) )\n",
    "                vaexCommand = 'max'\n",
    "                labels.append(binbyChannely + '--' + calcType )\n",
    "                print('dataVX.' + vaexCommand + '(\"' + binbyChannely + '\", binby=\"' + binbyChannelx + '\", selection = True, shape = (' + str(samplePoints) + ',) , limits=[' + str(start) +', ' + str(end) + '])')\n",
    "            elif calcType == 'Min':\n",
    "                y_Binned.append(dataVX.min(binbyChannely, binby=binbyChannelx, selection = True, shape=(samplePoints,), limits=[start,end]) )\n",
    "                vaexCommand = 'min'\n",
    "                labels.append(binbyChannely + '--' + calcType )\n",
    "                print('dataVX.' + vaexCommand + '(\"' + binbyChannely + '\", binby=\"' + binbyChannelx + '\", selection = True, shape = (' + str(samplePoints) + ',) , limits=[' + str(start) +', ' + str(end) + '])')\n",
    "            elif calcType == 'sum':\n",
    "                y_Binned2.append(dataVX.sum(binbyChannely, binby=binbyChannelx, selection = True, shape=(samplePoints,), limits=[start,end]) )\n",
    "                vaexCommand = 'sum'\n",
    "                labels2.append(binbyChannely + '--' + calcType )\n",
    "                print('dataVX.' + vaexCommand + '(\"' + binbyChannely + '\", binby=\"' + binbyChannelx + '\", selection = True, shape = (' + str(samplePoints) + ',) , limits=[' + str(start) +', ' + str(end) + '])')\n",
    "            elif calcType == 'Std. dev':\n",
    "                y_Binned2.append(dataVX.std(binbyChannely, binby=binbyChannelx, selection = True, shape=(samplePoints,), limits=[start,end]) )\n",
    "                vaexCommand = 'std'\n",
    "                labels2.append(binbyChannely + '--' + calcType )\n",
    "                print('dataVX.' + vaexCommand + '(\"' + binbyChannely + '\", binby=\"' + binbyChannelx + '\", selection = True, shape = (' + str(samplePoints) + ',) , limits=[' + str(start) +', ' + str(end) + '])')\n",
    "            elif calcType == 'variance':\n",
    "                y_Binned2.append(dataVX.var(binbyChannely, binby=binbyChannelx, selection = True, shape=(samplePoints,), limits=[start,end]) )\n",
    "                vaexCommand = 'var'\n",
    "                labels2.append(binbyChannely + '--' + calcType )\n",
    "                print('dataVX.' + vaexCommand + '(\"' + binbyChannely + '\", binby=\"' + binbyChannelx + '\", selection = True, shape = (' + str(samplePoints) + ',) , limits=[' + str(start) +', ' + str(end) + '])')\n",
    "            elif calcType == '95%ile':\n",
    "                y_Binned.append(dataVX.percentile_approx(binbyChannely, binby=binbyChannelx, selection = True, shape=(samplePoints,), limits=[start,end]) )\n",
    "                vaexCommand = 'percentile_approx'\n",
    "                labels.append(binbyChannely + '--' + calcType )\n",
    "                print('dataVX.' + vaexCommand + '(\"' + binbyChannely + '\", percentage=95.0 , binby=\"' + binbyChannelx + '\", selection = True, shape = (' + str(samplePoints) + ',) , limits=[' + str(start) +', ' + str(end) + '])')\n",
    "            elif calcType == 'median':\n",
    "                y_Binned.append(dataVX.median_approx(binbyChannely, binby=binbyChannelx, selection = True, shape=(samplePoints,), limits=[start,end]) )\n",
    "                vaexCommand = 'median_approx'\n",
    "                labels.append(binbyChannely + '--' + calcType )\n",
    "                print('dataVX.' + vaexCommand + '(\"' + binbyChannely + '\", percentage=50.0 , binby=\"' + binbyChannelx + '\", selection = True, shape = (' + str(samplePoints) + ',) , limits=[' + str(start) +', ' + str(end) + '])')\n",
    "            else:\n",
    "                break\n",
    "        if len(binbyChannelys) ==2:\n",
    "            if calcType == 'correlation':\n",
    "                y_Binned2.append(dataVX.correlation(binbyChannelys[0], binbyChannelys[1],binby=[binbyChannelx], selection = True, shape=(samplePoints,), limits=[start,end]) )\n",
    "                vaexCommand = 'correlation'\n",
    "                labels2.append(binbyChannely[0] + ',' +  binbyChannely[1]+ '--' + calcType )\n",
    "                print('dataVX.' + vaexCommand + '(\"' + binbyChannelys[0] + '\",\"' + binbyChannelys[1] + '\", binby=[\"' + binbyChannelx + '\"], selection = True, shape = (' + str(samplePoints) + ',) , limits=[' + str(start) +', ' + str(end) + '])')\n",
    "            elif calcType == 'covariance cov[x,y]':\n",
    "                y_Binned2.append(dataVX.covar(binbyChannelys[0], binbyChannelys[1],binby=[binbyChannelx], selection = True, shape=(samplePoints,), limits=[start,end]) )\n",
    "                vaexCommand = 'covar'\n",
    "                labels2.append(binbyChannely[0] + ',' + binbyChannely[1]+ '--' + calcType )\n",
    "                print('dataVX.' + vaexCommand + '(\"' + binbyChannelys[0] + '\",\"' + binbyChannelys[1] + '\", binby=[\"' + binbyChannelx + '\"], selection = True, shape = (' + str(samplePoints) + ',) , limits=[' + str(start) +', ' + str(end) + '])')\n",
    "#             elif calcType == 'variance':\n",
    "#                 y_Binned2.append(dataVX.var(binbyChannelys[0], binbyChannelys[1],binby=[binbyChannelx], selection = True, shape=(samplePoints,), limits=[start,end]) )\n",
    "#                 vaexCommand = 'var'\n",
    "#                 print('dataVX.' + vaexCommand + '(\"' + binbyChannelys[0] + ',' + binbyChannelys[1] + '\", binby=[' + binbyChannelx + '], selection = True, shape = (' + str(samplePoints) + ',) , limits=[' + str(start) +', ' + str(end) + '])')\n",
    "        else:\n",
    "            if calcType in ['correlation' , 'covariance','covariance cov[x,y]']:\n",
    "                print('Please create 2 equations to compute ' + calcType)\n",
    "\n",
    "    lineBinned.x = x_Binned\n",
    "    lineBinned.y = y_Binned\n",
    "    lineBinned.labels = labels\n",
    "    if y_Binned2 !=[]:\n",
    "        lineBinned2ndY.x = x_Binned\n",
    "        lineBinned2ndY.y = y_Binned2\n",
    "        lineBinned2ndY.labels = labels2\n",
    "        ax_y2.visible =True\n",
    "        fig.marks =  [line1, line2, lineBinned, lineBinned2ndY]\n",
    "        fig.axes =[ax_x, ax_y, ax_y2]\n",
    "        \n",
    "    else:\n",
    "        ax_y2.visible =False\n",
    "        fig.marks =  [line1, line2, lineBinned]\n",
    "        fig.axes =[ax_x, ax_y]\n",
    "        \n",
    "#     y_sc2 = bq.LinearScale()\n",
    "#     ax_y2 = bq.Axis(label='2nd Y', scale=y_sc2, orientation='vertical', side = 'right', visible = False)\n",
    "    \n",
    "    legendNew  = legendWidget(fig.marks)\n",
    "    legendFig = legendNew.fig\n",
    "    legend.fig.marks = legendFig.marks\n",
    "    legend.markLineNums = legendNew.markLineNums\n",
    "    legend.fig.axes = legendFig.axes\n",
    "    legend.fig.layout.height = str(40 + 20 * sum(legendNew.markLineNums)) + 'px'\n",
    "    legend.fig.marks[0].on_element_click(changeOpacity)\n",
    "    updatePlots_progressBar.value=0  \n",
    "\n",
    "    print('------------------------------------------------------------------------')"
   ]
  },
  {
   "cell_type": "code",
   "execution_count": 11,
   "metadata": {
    "scrolled": false
   },
   "outputs": [
    {
     "data": {
      "application/vnd.jupyter.widget-view+json": {
       "model_id": "0742e12d96a946b087d131ffcbf816d9",
       "version_major": 2,
       "version_minor": 0
      },
      "text/html": [
       "<p>Failed to display Jupyter Widget of type <code>VBox</code>.</p>\n",
       "<p>\n",
       "  If you're reading this message in the Jupyter Notebook or JupyterLab Notebook, it may mean\n",
       "  that the widgets JavaScript is still loading. If this message persists, it\n",
       "  likely means that the widgets JavaScript library is either not installed or\n",
       "  not enabled. See the <a href=\"https://ipywidgets.readthedocs.io/en/stable/user_install.html\">Jupyter\n",
       "  Widgets Documentation</a> for setup instructions.\n",
       "</p>\n",
       "<p>\n",
       "  If you're reading this message in another frontend (for example, a static\n",
       "  rendering on GitHub or <a href=\"https://nbviewer.jupyter.org/\">NBViewer</a>),\n",
       "  it may mean that your frontend doesn't currently support widgets.\n",
       "</p>\n"
      ],
      "text/plain": [
       "VBox(children=(HBox(children=(Figure(animation_duration=1000, axes=[Axis(label='X', scale=LinearScale()), Axis(label='Y', orientation='vertical', scale=LinearScale())], fig_margin={'top': 50, 'bottom': 40, 'left': 50, 'right': 50}, layout=Layout(height='400px', min_width='125px', width='98%'), marks=[Lines(colors=['blue'], interactions={'hover': 'tooltip'}, labels=['y1'], scales={'x': LinearScale(), 'y': LinearScale()}, scales_metadata={'x': {'orientation': 'horizontal', 'dimension': 'x'}, 'y': {'orientation': 'vertical', 'dimension': 'y'}, 'color': {'dimension': 'color'}}, stroke_width=1.0, tooltip_style={'opacity': 0.9}, x=array([   0,    1,    2, ..., 9997, 9998, 9999]), y=array([  -2.2782882 ,  -14.50041046,   37.81495249, ..., -186.74757737,\n",
       "       -206.81393825, -190.86777043])), Lines(colors=['darkgreen'], interactions={'hover': 'tooltip'}, labels=['y2'], scales={'x': LinearScale(), 'y': LinearScale()}, scales_metadata={'x': {'orientation': 'horizontal', 'dimension': 'x'}, 'y': {'orientation': 'vertical', 'dimension': 'y'}, 'color': {'dimension': 'color'}}, stroke_width=1.0, tooltip_style={'opacity': 0.9}, x=array([   0,    1,    2, ..., 9997, 9998, 9999]), y=array([   1.25692364,    1.69709841,   -0.57249819, ...,  106.4524345 ,\n",
       "        101.81279353,   97.42777806])), Lines(colors=['#1f77b4', '#ff7f0e', '#2ca02c', '#d62728', '#9467bd', '#8c564b', '#e377c2', '#7f7f7f', '#bcbd22', '#17becf'], interactions={'hover': 'tooltip'}, labels=['y1 -- mean'], scales={'x': LinearScale(), 'y': LinearScale()}, scales_metadata={'x': {'orientation': 'horizontal', 'dimension': 'x'}, 'y': {'orientation': 'vertical', 'dimension': 'y'}, 'color': {'dimension': 'color'}}, tooltip_style={'opacity': 0.9}, x=array([  575. ,   724.5,   874.5,  1024.5,  1174.5,  1324.5,  1474.5,\n",
       "        1624.5,  1774.5,  1924.5,  2074.5,  2224.5,  2374.5,  2524.5,\n",
       "        2674.5,  2824.5,  2974.5,  3124.5,  3274.5,  3424.5,  3574.5,\n",
       "        3724.5,  3874.5,  4024.5,  4174.5,  4324.5,  4474.5,  4624.5,\n",
       "        4774.5,  4924.5,  5074.5,  5224.5,  5374.5,  5524.5,  5674.5,\n",
       "        5824.5,  5974.5,  6124.5,  6274.5,  6424.5,  6574.5,  6724.5,\n",
       "        6874.5,  7024.5,  7174.5,  7324.5,  7474.5,  7624.5,  7774.5,\n",
       "        7924.5]), y=array([ -28.71770235,  -44.81723706,  -57.63340053,  -44.28288604,\n",
       "        -33.24696906,  -32.02187818,  -31.71313552,  -25.20421347,\n",
       "        -26.75606596,  -32.38881645,  -28.20298608,  -44.0675195 ,\n",
       "        -49.4973406 ,  -51.2358642 ,  -58.28172053,  -63.59702301,\n",
       "        -79.33253318,  -94.26311393, -101.89867384, -104.46517768,\n",
       "        -92.28603283,  -92.53081774,  -98.46231637,  -99.77228422,\n",
       "       -113.74517421, -111.31417219, -103.48450689,  -96.90158546,\n",
       "        -99.49096564,  -82.56879952,  -81.49509138,  -91.58382754,\n",
       "        -85.40262056,  -90.09065324,  -90.77984115,  -81.78800491,\n",
       "        -87.24448112,  -86.10147012,  -79.45352057,  -88.80388338,\n",
       "        -96.03586617,  -94.35885361,  -83.53224163,  -80.46050655,\n",
       "        -98.70004682, -104.84187477,  -97.64325881, -105.93949825,\n",
       "        -94.02696374,  -98.91303508]))], scale_x=LinearScale(allow_padding=False, max=1.0, min=0.0), scale_y=LinearScale(allow_padding=False, max=1.0, min=0.0), title='Vaex demo'), Figure(axes=[Axis(orientation='vertical', scale=OrdinalScale()), Axis(scale=LinearScale(), visible=False)], background_style={'fill': 'White'}, fig_margin={'top': 40, 'bottom': 0, 'left': 110, 'right': 5}, layout=Layout(height='105px', min_width='125px', width='170px'), marks=[Bars(colors=['blue', 'darkgreen', '#1f77b4'], interactions={'hover': 'tooltip'}, orientation='horizontal', padding=0.6, scales={'y': LinearScale(), 'x': OrdinalScale()}, scales_metadata={'x': {'orientation': 'vertical', 'dimension': 'x'}, 'y': {'orientation': 'horizontal', 'dimension': 'y'}}, stroke='white', tooltip_style={'opacity': 0.9}, x=array(['y1', 'y2', 'y1 -- mean'],\n",
       "      dtype='<U10'), y=array([1, 1, 1]))], max_aspect_ratio=999999999999999.0, min_aspect_ratio=1e-12, scale_x=LinearScale(allow_padding=False, max=1.0, min=0.0), scale_y=LinearScale(allow_padding=False, max=1.0, min=0.0)))), HBox(children=(VBox(children=(HTML(value='<b>The lines y1 and y2 are fixed.</b>'), HTML(value='<b>Edit the settings and hit plot....</b>'), VBox(children=(Button(description='Plot', layout=Layout(height='25px', width='180px'), style=ButtonStyle()), IntProgress(value=0, layout=Layout(height='15px', width='180px'), max=10))))), VBox(children=(IntText(value=500, description='Nº of bins:', layout=Layout(width='180px')), HBox(children=(FloatText(value=0.0, description='Start x:', layout=Layout(width='180px')), FloatText(value=8000.0, description='End x:', layout=Layout(width='180px')))), HBox(children=(Text(value='y1', description='Equation1:', placeholder='Type equation: e.g.  fuel * engspd,  or  where((fuel>80)&(engspd>2000) , tempegr_val, 0)'), Valid(value=True, layout=Layout(width='20px')))), HBox(children=(Text(value='y2', description='Equation2:', placeholder='Type equation: e.g.  fuel * engspd,  or  where((fuel>80)&(engspd>2000) , tempegr_val, 0)'), Valid(value=True, layout=Layout(width='20px')))), HBox(children=(Text(value='', description='Selection:', placeholder='Type selection boolean equation'), Valid(value=True, layout=Layout(width='20px')))), SelectMultiple(description='Calc type:', index=(0,), options=('Mean', 'Max', 'Min', 'sum', 'Std. dev', '95%ile', 'median', 'variance', 'correlation', 'covariance cov[x,y]'), value=('Mean',))))))))"
      ]
     },
     "metadata": {},
     "output_type": "display_data"
    },
    {
     "name": "stdout",
     "output_type": "stream",
     "text": [
      "x_Binned = dataVX.mean(x , binby=x, selection = True, shape = (500,) , limits=[0.0, 8000.0])\n",
      "dataVX.select((x > 0.0) & (x < 8000.0))\n",
      "dataVX.mean(\"y1\", binby=\"x\", selection = True, shape = (500,) , limits=[0.0, 8000.0])\n",
      "dataVX.mean(\"y2\", binby=\"x\", selection = True, shape = (500,) , limits=[0.0, 8000.0])\n",
      "dataVX.max(\"y1\", binby=\"x\", selection = True, shape = (500,) , limits=[0.0, 8000.0])\n",
      "dataVX.max(\"y2\", binby=\"x\", selection = True, shape = (500,) , limits=[0.0, 8000.0])\n",
      "dataVX.min(\"y1\", binby=\"x\", selection = True, shape = (500,) , limits=[0.0, 8000.0])\n",
      "dataVX.min(\"y2\", binby=\"x\", selection = True, shape = (500,) , limits=[0.0, 8000.0])\n",
      "dataVX.sum(\"y1\", binby=\"x\", selection = True, shape = (500,) , limits=[0.0, 8000.0])\n",
      "dataVX.sum(\"y2\", binby=\"x\", selection = True, shape = (500,) , limits=[0.0, 8000.0])\n",
      "dataVX.std(\"y1\", binby=\"x\", selection = True, shape = (500,) , limits=[0.0, 8000.0])\n",
      "dataVX.std(\"y2\", binby=\"x\", selection = True, shape = (500,) , limits=[0.0, 8000.0])\n",
      "------------------------------------------------------------------------\n"
     ]
    }
   ],
   "source": [
    "\n",
    "fig_legend =  widgets.HBox([fig,legend.fig])\n",
    "lhs = widgets.VBox([helpLabelWidget1,helpLabelWidget,buttonPlotBox])\n",
    "rhs = widgets.VBox([figBinNum,widgets.HBox([startx,endx]), equationHbox,equationHbox2,selectHbox,calcTypeWidget])\n",
    "bottom = widgets.HBox([lhs,rhs])\n",
    "\n",
    "widgets.VBox([fig_legend,bottom])"
   ]
  },
  {
   "cell_type": "code",
   "execution_count": 12,
   "metadata": {},
   "outputs": [
    {
     "name": "stdout",
     "output_type": "stream",
     "text": [
      "x_Binned = dataVX.mean(x , binby=x, selection = True, shape = (500,) , limits=[0.0, 8000.0])\n",
      "dataVX.select((x > 0.0) & (x < 8000.0))\n",
      "dataVX.select(y2 < 50, mode = 'and')\n",
      "dataVX.mean(\"y1\", binby=\"x\", selection = True, shape = (500,) , limits=[0.0, 8000.0])\n",
      "dataVX.mean(\"y2\", binby=\"x\", selection = True, shape = (500,) , limits=[0.0, 8000.0])\n",
      "------------------------------------------------------------------------\n"
     ]
    }
   ],
   "source": [
    "# Only include in calculation when y2 is greater than 50\n",
    "Userselect.value = 'y2 < 50'\n",
    "updatePlot()"
   ]
  },
  {
   "cell_type": "code",
   "execution_count": 13,
   "metadata": {},
   "outputs": [
    {
     "name": "stdout",
     "output_type": "stream",
     "text": [
      "x_Binned = dataVX.mean(x , binby=x, selection = True, shape = (500,) , limits=[0.0, 8000.0])\n",
      "dataVX.select((x > 0.0) & (x < 8000.0))\n",
      "dataVX.select(y2 < 50, mode = 'and')\n",
      "dataVX.mean(\"y1*y2 / 10\", binby=\"x\", selection = True, shape = (500,) , limits=[0.0, 8000.0])\n",
      "dataVX.mean(\"y2\", binby=\"x\", selection = True, shape = (500,) , limits=[0.0, 8000.0])\n",
      "------------------------------------------------------------------------\n"
     ]
    }
   ],
   "source": [
    "UserEquation.value = 'y1*y2 / 10'\n",
    "updatePlot()"
   ]
  },
  {
   "cell_type": "code",
   "execution_count": 14,
   "metadata": {},
   "outputs": [
    {
     "name": "stdout",
     "output_type": "stream",
     "text": [
      "x_Binned = dataVX.mean(x , binby=x, selection = True, shape = (500,) , limits=[0.0, 8000.0])\n",
      "dataVX.select((x > 0.0) & (x < 8000.0))\n",
      "dataVX.select(y2 < 50, mode = 'and')\n",
      "dataVX.mean(\"where(y1*y2 / 10 < -1000 , -1000 ,y1*y2 / 10) \", binby=\"x\", selection = True, shape = (500,) , limits=[0.0, 8000.0])\n",
      "dataVX.mean(\"y2\", binby=\"x\", selection = True, shape = (500,) , limits=[0.0, 8000.0])\n",
      "------------------------------------------------------------------------\n"
     ]
    }
   ],
   "source": [
    "# Using the numexpr where function, cap the minimum to -1000\n",
    "UserEquation.value = 'where(y1*y2 / 10 < -1000 , -1000 ,y1*y2 / 10) '\n",
    "updatePlot()"
   ]
  },
  {
   "cell_type": "code",
   "execution_count": 15,
   "metadata": {},
   "outputs": [
    {
     "name": "stdout",
     "output_type": "stream",
     "text": [
      "x_Binned = dataVX.mean(x , binby=x, selection = True, shape = (500,) , limits=[0.0, 8000.0])\n",
      "dataVX.select((x > 0.0) & (x < 8000.0))\n",
      "dataVX.mean(\"y1\", binby=\"x\", selection = True, shape = (500,) , limits=[0.0, 8000.0])\n",
      "dataVX.mean(\"y2\", binby=\"x\", selection = True, shape = (500,) , limits=[0.0, 8000.0])\n",
      "------------------------------------------------------------------------\n"
     ]
    }
   ],
   "source": [
    "Userselect.value = ''\n",
    "UserEquation.value = 'y1'\n",
    "updatePlot()"
   ]
  },
  {
   "cell_type": "code",
   "execution_count": null,
   "metadata": {},
   "outputs": [],
   "source": []
  }
 ],
 "metadata": {
  "hide_input": false,
  "kernelspec": {
   "display_name": "Python 3",
   "language": "python",
   "name": "python3"
  },
  "language_info": {
   "codemirror_mode": {
    "name": "ipython",
    "version": 3
   },
   "file_extension": ".py",
   "mimetype": "text/x-python",
   "name": "python",
   "nbconvert_exporter": "python",
   "pygments_lexer": "ipython3",
   "version": "3.6.2"
  },
  "varInspector": {
   "cols": {
    "lenName": 16,
    "lenType": 16,
    "lenVar": 40
   },
   "kernels_config": {
    "python": {
     "delete_cmd_postfix": "",
     "delete_cmd_prefix": "del ",
     "library": "var_list.py",
     "varRefreshCmd": "print(var_dic_list())"
    },
    "r": {
     "delete_cmd_postfix": ") ",
     "delete_cmd_prefix": "rm(",
     "library": "var_list.r",
     "varRefreshCmd": "cat(var_dic_list()) "
    }
   },
   "types_to_exclude": [
    "module",
    "function",
    "builtin_function_or_method",
    "instance",
    "_Feature"
   ],
   "window_display": false
  }
 },
 "nbformat": 4,
 "nbformat_minor": 2
}
